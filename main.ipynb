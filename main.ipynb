{
 "cells": [
  {
   "cell_type": "code",
   "execution_count": 1,
   "metadata": {},
   "outputs": [],
   "source": [
    "import os\n",
    "from src.data_preprocessing import load_and_preprocess_images, split_dataset, encode_labels\n",
    "from src.feature_extraction import calculate_hu_moments_custom, calculate_hu_moments\n",
    "from src.train_shape_classifier import train_knn, evaluate_model, train_svm"
   ]
  },
  {
   "cell_type": "code",
   "execution_count": 2,
   "metadata": {},
   "outputs": [],
   "source": [
    "# Dataset directory\n",
    "data_dir = \"shapes\"\n",
    "\n",
    "# Image size\n",
    "image_size = (200, 200)\n",
    "\n",
    "# Load and preprocess images\n",
    "images, labels = load_and_preprocess_images(data_dir, image_size)"
   ]
  },
  {
   "cell_type": "code",
   "execution_count": 3,
   "metadata": {},
   "outputs": [],
   "source": [
    "# Split dataset\n",
    "X_train, X_val, X_test, y_train, y_val, y_test = split_dataset(images, labels)"
   ]
  },
  {
   "cell_type": "code",
   "execution_count": 4,
   "metadata": {},
   "outputs": [],
   "source": [
    "# Encode labels\n",
    "y_train_encoded = encode_labels(y_train)\n",
    "y_val_encoded = encode_labels(y_val)\n",
    "y_test_encoded = encode_labels(y_test)"
   ]
  },
  {
   "cell_type": "code",
   "execution_count": 5,
   "metadata": {},
   "outputs": [],
   "source": [
    "# Feature extraction (Hu moments)\n",
    "X_train_hu_moments = [calculate_hu_moments(image).flatten() for image in X_train]\n",
    "X_val_hu_moments = [calculate_hu_moments(image).flatten() for image in X_val]\n",
    "X_test_hu_moments = [calculate_hu_moments(image).flatten() for image in X_test]\n",
    "\n",
    "X_train_hu_moments_custom = [calculate_hu_moments_custom(image).flatten() for image in X_train]\n",
    "X_val_hu_moments_custom = [calculate_hu_moments_custom(image).flatten() for image in X_val]\n",
    "X_test_hu_moments_custom = [calculate_hu_moments_custom(image).flatten() for image in X_test]"
   ]
  },
  {
   "cell_type": "code",
   "execution_count": 6,
   "metadata": {},
   "outputs": [],
   "source": [
    "# Train a model\n",
    "knn_model = train_knn(X_train_hu_moments, y_train_encoded)\n",
    "\n",
    "knn_model_custom = train_knn(X_train_hu_moments_custom, y_train_encoded)\n",
    "\n",
    "svm_model = train_svm(X_train_hu_moments, y_train_encoded)\n",
    "\n",
    "svm_model_custom = train_svm(X_train_hu_moments_custom, y_train_encoded)"
   ]
  },
  {
   "cell_type": "code",
   "execution_count": 7,
   "metadata": {},
   "outputs": [],
   "source": [
    "# Evaluate the model on validation and test sets\n",
    "val_accuracy = evaluate_model(knn_model, X_val_hu_moments, y_val_encoded)\n",
    "test_accuracy = evaluate_model(knn_model, X_test_hu_moments, y_test_encoded)\n",
    "\n",
    "val_accuracy_custom = evaluate_model(knn_model_custom, X_val_hu_moments_custom, y_val_encoded)\n",
    "test_accuracy_custom = evaluate_model(knn_model_custom, X_test_hu_moments_custom, y_test_encoded)\n",
    "\n",
    "svm_val_accuracy = evaluate_model(svm_model, X_val_hu_moments, y_val_encoded)\n",
    "svm_test_accuracy = evaluate_model(svm_model, X_test_hu_moments, y_test_encoded)\n",
    "\n",
    "svm_val_accuracy_custom = evaluate_model(svm_model_custom, X_val_hu_moments_custom, y_val_encoded)\n",
    "svm_test_accuracy_custom = evaluate_model(svm_model_custom, X_test_hu_moments_custom, y_test_encoded)"
   ]
  },
  {
   "cell_type": "code",
   "execution_count": 8,
   "metadata": {},
   "outputs": [
    {
     "name": "stdout",
     "output_type": "stream",
     "text": [
      "KNN algorithm: \n",
      "\n",
      "OpenCV moments(): \n",
      "\n",
      "Validation Accuracy: 0.8617077003666841\n",
      "Test Accuracy: 0.8557435440783615 \n",
      "\n",
      "custom moments(): \n",
      "\n",
      "Validation Accuracy: 0.8727082242011525\n",
      "Test Accuracy: 0.8610863757791629\n",
      "SVM algorithm: \n",
      "\n",
      "OpenCV moments(): \n",
      "\n",
      "Validation Accuracy: 0.9586170770036668\n",
      "Test Accuracy: 0.9559216384683883 \n",
      "\n",
      "custom moments(): \n",
      "\n",
      "Validation Accuracy: 0.8067050811943426\n",
      "Test Accuracy: 0.798753339269813\n"
     ]
    }
   ],
   "source": [
    "print(\"KNN algorithm: \\n\")\n",
    "print(\"OpenCV moments(): \\n\")\n",
    "print(\"Validation Accuracy:\", val_accuracy)\n",
    "print(\"Test Accuracy:\", test_accuracy, \"\\n\")\n",
    "print(\"custom moments(): \\n\")\n",
    "print(\"Validation Accuracy:\", val_accuracy_custom)\n",
    "print(\"Test Accuracy:\", test_accuracy_custom)\n",
    "print(\"SVM algorithm: \\n\")\n",
    "print(\"OpenCV moments(): \\n\")\n",
    "print(\"Validation Accuracy:\", svm_val_accuracy)\n",
    "print(\"Test Accuracy:\", svm_test_accuracy, \"\\n\")\n",
    "print(\"custom moments(): \\n\")\n",
    "print(\"Validation Accuracy:\", svm_val_accuracy_custom)\n",
    "print(\"Test Accuracy:\", svm_test_accuracy_custom)"
   ]
  }
 ],
 "metadata": {
  "kernelspec": {
   "display_name": "Python 3",
   "language": "python",
   "name": "python3"
  },
  "language_info": {
   "codemirror_mode": {
    "name": "ipython",
    "version": 3
   },
   "file_extension": ".py",
   "mimetype": "text/x-python",
   "name": "python",
   "nbconvert_exporter": "python",
   "pygments_lexer": "ipython3",
   "version": "3.10.11"
  }
 },
 "nbformat": 4,
 "nbformat_minor": 2
}
